{
 "cells": [
  {
   "cell_type": "code",
   "execution_count": 10,
   "id": "622d0bd1-6e59-4017-8b82-3e04f31eee13",
   "metadata": {},
   "outputs": [],
   "source": [
    "import pandas as pd\n",
    "import numpy as np\n",
    "from sklearn.ensemble import RandomForestRegressor\n",
    "from sklearn.model_selection import train_test_split\n",
    "from sklearn.preprocessing import StandardScaler\n",
    "from sklearn.metrics import mean_squared_error, accuracy_score, confusion_matrix\n",
    "import joblib"
   ]
  },
  {
   "cell_type": "code",
   "execution_count": 3,
   "id": "8b2d3630-5bed-40d4-a71a-4a6357fb44b1",
   "metadata": {},
   "outputs": [],
   "source": [
    "# Load dataset\n",
    "file_path = \"External_Cibil_Dataset.xlsx\"  # Make sure this file is inside the backend folder\n",
    "org_file = pd.read_excel(file_path)\n",
    "df = org_file\n"
   ]
  },
  {
   "cell_type": "code",
   "execution_count": 4,
   "id": "a350b490-149e-49da-8302-e91dc4aff8ca",
   "metadata": {},
   "outputs": [],
   "source": [
    "# Drop non-informative columns\n",
    "drop_cols = [\"PROSPECTID\", \"last_prod_enq2\", \"first_prod_enq2\", \"Approved_Flag\"]\n",
    "df = df.drop(columns=drop_cols, errors=\"ignore\")"
   ]
  },
  {
   "cell_type": "code",
   "execution_count": 5,
   "id": "ee9c46d5-b387-4163-92d4-77e030df1c03",
   "metadata": {},
   "outputs": [],
   "source": [
    "# Handle categorical encoding\n",
    "df[\"MARITALSTATUS\"] = df[\"MARITALSTATUS\"].astype(\"category\").cat.codes\n",
    "df[\"EDUCATION\"] = df[\"EDUCATION\"].astype(\"category\").cat.codes\n",
    "df[\"GENDER\"] = df[\"GENDER\"].astype(\"category\").cat.codes\n",
    "\n",
    "# Fill missing values with median\n",
    "df.fillna(df.median(), inplace=True)\n",
    "\n",
    "#code the category is replaced with\n",
    "#maritalstatus: married-0 single-1 \n",
    "#education: 12th-0 graduate-1 others-2 postgraduate-3 professional-4 SSC-5 undergraduate=6\n",
    "#gender: f-0 m-1"
   ]
  },
  {
   "cell_type": "code",
   "execution_count": 6,
   "id": "d9b7d925-6328-4ff4-80ae-e2e31c6b642a",
   "metadata": {},
   "outputs": [],
   "source": [
    "# Feature Selection (top features based on RandomForest)\n",
    "selected_features = [\"enq_L3m\", \"num_std\", \"time_since_recent_enq\", \"num_std_12mts\",\n",
    "                     \"enq_L6m\", \"AGE\", \"recent_level_of_deliq\", \"time_since_recent_deliquency\",\n",
    "                     \"Time_With_Curr_Empr\", \"time_since_recent_payment\", \"NETMONTHLYINCOME\"]\n",
    "\n",
    "X = df[selected_features]\n",
    "y = df[\"Credit_Score\"]"
   ]
  },
  {
   "cell_type": "code",
   "execution_count": 7,
   "id": "b57cb031-8960-427e-b1ad-a0f27f74481c",
   "metadata": {},
   "outputs": [],
   "source": [
    "# Split into train and test\n",
    "X_train, X_test, y_train, y_test = train_test_split(X, y, test_size=0.2, random_state=42)"
   ]
  },
  {
   "cell_type": "code",
   "execution_count": 8,
   "id": "74575f5b-ec30-4436-bd36-758f2e42baa5",
   "metadata": {},
   "outputs": [],
   "source": [
    "# Apply Z-score normalization\n",
    "scaler = StandardScaler()\n",
    "X_train = scaler.fit_transform(X_train)\n",
    "X_test = scaler.transform(X_test)"
   ]
  },
  {
   "cell_type": "code",
   "execution_count": null,
   "id": "2ce932dc-726e-46a4-9059-0cd0c8fd5fbf",
   "metadata": {},
   "outputs": [],
   "source": [
    "# Train Random Forest Model\n",
    "model = RandomForestRegressor(n_estimators=100, random_state=42)\n",
    "model.fit(X_train, y_train)\n",
    "\n",
    "y_pred = model.predict(X_test)\n",
    "mse = mean_squared_error(y_test, y_pred)\n",
    "rmse = np.sqrt(mse)\n",
    "accuracy = accuracy_score(y_test, y_pred)\n",
    "cm = confusion_matrix(y_test, y_pred)\n",
    "\n",
    "\n",
    "Save the trained model and scaler\n",
    "joblib.dump(model, \"credit_score_model.pkl\")\n",
    "joblib.dump(scaler, \"scaler.pkl\")\n",
    "\n",
    "print(\"Model and Scaler saved successfully!\")"
   ]
  },
  {
   "cell_type": "code",
   "execution_count": 12,
   "id": "de022aa2-7b25-4743-ab7e-aacdb1badb0d",
   "metadata": {},
   "outputs": [
    {
     "name": "stdout",
     "output_type": "stream",
     "text": [
      "Accuracy: 0.9644526684846124\n",
      "Confusion Matrix:\n",
      " [[9555    1   61]\n",
      " [  20   10    0]\n",
      " [ 283    0  338]]\n"
     ]
    }
   ],
   "source": [
    "import pandas as pd\n",
    "from sklearn.metrics import accuracy_score, confusion_matrix, mean_squared_error\n",
    "import numpy as np\n",
    "\n",
    "# Suppose these are your regression predictions\n",
    "# Convert continuous credit scores to categorical\n",
    "def score_to_category(score):\n",
    "    if score <= 650:\n",
    "        return \"Poor\"\n",
    "    elif score <= 750:\n",
    "        return \"Average\"\n",
    "    else:\n",
    "        return \"Good\"\n",
    "\n",
    "# Convert true and predicted scores\n",
    "y_test_cat = y_test.apply(score_to_category)\n",
    "y_pred_cat = pd.Series(y_pred).apply(score_to_category)\n",
    "\n",
    "# Now you can compute classification metrics\n",
    "accuracy = accuracy_score(y_test_cat, y_pred_cat)\n",
    "cm = confusion_matrix(y_test_cat, y_pred_cat)\n",
    "\n",
    "print(\"Accuracy:\", accuracy)\n",
    "print(\"Confusion Matrix:\\n\", cm)\n"
   ]
  },
  {
   "cell_type": "code",
   "execution_count": 13,
   "id": "022c2762-842b-4bae-8d43-752cc7026aa5",
   "metadata": {},
   "outputs": [
    {
     "name": "stdout",
     "output_type": "stream",
     "text": [
      "RMSE: 11.474665328247497\n",
      "R² Score: 0.6852256104870834\n"
     ]
    }
   ],
   "source": [
    "from sklearn.metrics import mean_squared_error, r2_score\n",
    "\n",
    "mse = mean_squared_error(y_test, y_pred)\n",
    "rmse = np.sqrt(mse)\n",
    "r2 = r2_score(y_test, y_pred)\n",
    "\n",
    "print(\"RMSE:\", rmse)\n",
    "print(\"R² Score:\", r2)\n"
   ]
  },
  {
   "cell_type": "code",
   "execution_count": null,
   "id": "abeda037-4e9d-4ecf-ba3b-bb113f2bcbcc",
   "metadata": {},
   "outputs": [],
   "source": []
  }
 ],
 "metadata": {
  "kernelspec": {
   "display_name": "Python 3 (ipykernel)",
   "language": "python",
   "name": "python3"
  },
  "language_info": {
   "codemirror_mode": {
    "name": "ipython",
    "version": 3
   },
   "file_extension": ".py",
   "mimetype": "text/x-python",
   "name": "python",
   "nbconvert_exporter": "python",
   "pygments_lexer": "ipython3",
   "version": "3.12.7"
  }
 },
 "nbformat": 4,
 "nbformat_minor": 5
}
