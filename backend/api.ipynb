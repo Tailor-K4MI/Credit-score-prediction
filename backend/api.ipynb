{
 "cells": [
  {
   "cell_type": "code",
   "execution_count": 1,
   "id": "cfe79906-9b7a-4b42-9870-c53b0fd49471",
   "metadata": {},
   "outputs": [],
   "source": [
    "from fastapi import FastAPI\n",
    "import joblib\n",
    "import numpy as np\n",
    "from pydantic import BaseModel"
   ]
  },
  {
   "cell_type": "code",
   "execution_count": 5,
   "id": "0e1a2dc0-4a80-4d05-b926-a34be457ac3b",
   "metadata": {},
   "outputs": [],
   "source": [
    "# Load trained model and scaler\n",
    "model = joblib.load(\"credit_score_model.pkl\")\n",
    "scaler = joblib.load(\"scaler.pkl\")\n",
    "\n",
    "# Define FastAPI App\n",
    "app = FastAPI()\n",
    "\n",
    "# Input Schema\n",
    "class CreditScoreInput(BaseModel):\n",
    "    enq_L3m: float\n",
    "    num_std: float\n",
    "    time_since_recent_enq: float\n",
    "    num_std_12mts: float\n",
    "    enq_L6m: float\n",
    "    AGE: int\n",
    "    recent_level_of_deliq: float\n",
    "    time_since_recent_deliquency: float\n",
    "    Time_With_Curr_Empr: float\n",
    "    time_since_recent_payment: float\n",
    "    NETMONTHLYINCOME: float\n",
    "\n",
    "@app.post(\"/predict\")\n",
    "def predict_credit_score(input_data: CreditScoreInput):\n",
    "    # Convert input to array\n",
    "    input_array = np.array([[input_data.enq_L3m, input_data.num_std, input_data.time_since_recent_enq,\n",
    "                             input_data.num_std_12mts, input_data.enq_L6m, input_data.AGE,\n",
    "                             input_data.recent_level_of_deliq, input_data.time_since_recent_deliquency,\n",
    "                             input_data.Time_With_Curr_Empr, input_data.time_since_recent_payment,\n",
    "                             input_data.NETMONTHLYINCOME]])\n",
    "    \n",
    "    # Scale input data\n",
    "    scaled_input = scaler.transform(input_array)\n",
    "    \n",
    "    # Predict Credit Score\n",
    "    prediction = model.predict(scaled_input)\n",
    "    \n",
    "    return {\"predicted_credit_score\": prediction[0]}\n",
    "from fastapi.middleware.cors import CORSMiddleware\n",
    "\n",
    "app.add_middleware(\n",
    "    CORSMiddleware,\n",
    "    allow_origins=[\"http://127.0.0.1:5500/frontend/index.html\"],  # Change this to your frontend's domain in production\n",
    "    allow_credentials=True,\n",
    "    allow_methods=[\"POST\"],\n",
    "    allow_headers=[\"*\"],\n",
    ")\n"
   ]
  },
  {
   "cell_type": "code",
   "execution_count": null,
   "id": "d0c687ad-6cf0-493a-b9a1-3f470032c2da",
   "metadata": {},
   "outputs": [],
   "source": []
  }
 ],
 "metadata": {
  "kernelspec": {
   "display_name": "Python 3 (ipykernel)",
   "language": "python",
   "name": "python3"
  },
  "language_info": {
   "codemirror_mode": {
    "name": "ipython",
    "version": 3
   },
   "file_extension": ".py",
   "mimetype": "text/x-python",
   "name": "python",
   "nbconvert_exporter": "python",
   "pygments_lexer": "ipython3",
   "version": "3.12.7"
  }
 },
 "nbformat": 4,
 "nbformat_minor": 5
}
